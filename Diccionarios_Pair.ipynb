{
 "cells": [
  {
   "cell_type": "markdown",
   "id": "19caf93c",
   "metadata": {},
   "source": [
    "# EXERCICIOS DICCIONARIOS\n",
    "\n",
    "#### PAIR PROGRAMMING - Ariana & Andrea"
   ]
  },
  {
   "cell_type": "code",
   "execution_count": null,
   "id": "f34b81a6",
   "metadata": {},
   "outputs": [
    {
     "name": "stdout",
     "output_type": "stream",
     "text": [
      "{}\n"
     ]
    }
   ],
   "source": [
    "\n",
    "# 1 - Crear un diccionario vacío\n",
    "diccionario = {}\n",
    "print(diccionario)"
   ]
  },
  {
   "cell_type": "code",
   "execution_count": null,
   "id": "0c66e4ed",
   "metadata": {},
   "outputs": [
    {
     "name": "stdout",
     "output_type": "stream",
     "text": [
      "{'España': 'Madrid', 'Portugal': 'Lisboa', 'Italia': 'Roma', 'Francia': 'Paris', 'Inglaterra': 'Londres'}\n"
     ]
    }
   ],
   "source": [
    "# 2 - Crear un diccionario con elementos\n",
    "capitales = {'España':'Madrid', 'Portugal':'Lisboa', 'Italia':'Roma', 'Francia':'Paris', 'Inglaterra':'Londres'}\n",
    "print(capitales)"
   ]
  },
  {
   "cell_type": "code",
   "execution_count": 6,
   "id": "295a776f",
   "metadata": {},
   "outputs": [
    {
     "name": "stdout",
     "output_type": "stream",
     "text": [
      "Madrid\n"
     ]
    }
   ],
   "source": [
    "# 3 - Acceder al valor de una clave en un diccionario\n",
    "pais = input('Escribe un pais')\n",
    "print(capitales.get(pais))\n",
    "\n"
   ]
  },
  {
   "cell_type": "code",
   "execution_count": 7,
   "id": "d599aeb5",
   "metadata": {},
   "outputs": [
    {
     "data": {
      "text/plain": [
       "'Madrid'"
      ]
     },
     "execution_count": 7,
     "metadata": {},
     "output_type": "execute_result"
    }
   ],
   "source": [
    "capitales['España']"
   ]
  },
  {
   "cell_type": "code",
   "execution_count": 8,
   "id": "688a35e2",
   "metadata": {},
   "outputs": [
    {
     "name": "stdout",
     "output_type": "stream",
     "text": [
      "{'España': 'Madrid', 'Portugal': 'Lisboa', 'Italia': 'Roma', 'Francia': 'Paris', 'Inglaterra': 'Londres', 'Alemania': 'Berlin'}\n"
     ]
    }
   ],
   "source": [
    "# 4 - Agregar un nuevo par clave-valor a un diccionario\n",
    "nuevo_par = {'Alemania':'Berlin'}\n",
    "capitales.update(nuevo_par)\n",
    "print(capitales)"
   ]
  },
  {
   "cell_type": "code",
   "execution_count": 9,
   "id": "e5b1665a",
   "metadata": {},
   "outputs": [
    {
     "name": "stdout",
     "output_type": "stream",
     "text": [
      "{'España': 'Barcelona', 'Portugal': 'Lisboa', 'Italia': 'Roma', 'Francia': 'Paris', 'Inglaterra': 'Londres', 'Alemania': 'Berlin'}\n"
     ]
    }
   ],
   "source": [
    "# 5 - Actualizar el valor de una clave en un diccionario\n",
    "nueva_capital = {'España':'Barcelona'}\n",
    "capitales.update(nueva_capital)\n",
    "print(capitales)\n"
   ]
  },
  {
   "cell_type": "code",
   "execution_count": null,
   "id": "db126005",
   "metadata": {},
   "outputs": [],
   "source": [
    "# 6 - Eliminar un par clave-valor de un diccionario\n"
   ]
  },
  {
   "cell_type": "code",
   "execution_count": null,
   "id": "6ccb15a0",
   "metadata": {},
   "outputs": [],
   "source": []
  },
  {
   "cell_type": "code",
   "execution_count": null,
   "id": "89bf6e76",
   "metadata": {},
   "outputs": [],
   "source": []
  }
 ],
 "metadata": {
  "kernelspec": {
   "display_name": "base",
   "language": "python",
   "name": "python3"
  },
  "language_info": {
   "codemirror_mode": {
    "name": "ipython",
    "version": 3
   },
   "file_extension": ".py",
   "mimetype": "text/x-python",
   "name": "python",
   "nbconvert_exporter": "python",
   "pygments_lexer": "ipython3",
   "version": "3.13.5"
  }
 },
 "nbformat": 4,
 "nbformat_minor": 5
}
