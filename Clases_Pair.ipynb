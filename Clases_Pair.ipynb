{
 "cells": [
  {
   "cell_type": "markdown",
   "id": "1890e0fb",
   "metadata": {},
   "source": [
    "## CLASES\n",
    "\n",
    "#### EJERCICIOS PAIR PROGRAMMING - Ariana & Andrea\n"
   ]
  },
  {
   "cell_type": "markdown",
   "id": "5f50821e",
   "metadata": {},
   "source": [
    "Crea una clase llamada Vehiculo que representa un vehículo genérico. Esta clase tiene la capacidad de realizar acciones relacionadas con el vehículo, como encenderlo, apagarlo, acelerar, frenar y detenerlo gradualmente. Cada método en la clase tiene una descripción específica de su función. A continuación, se detallan los aspectos clave de esta clase:"
   ]
  },
  {
   "cell_type": "code",
   "execution_count": null,
   "id": "743285ef",
   "metadata": {},
   "outputs": [],
   "source": [
    "class Vehiculo:\n",
    "    def __init__(self, marca, modelo, ano, velocidad_actual, encendido):\n",
    "        self.marca = marca\n",
    "        self.modelo = modelo\n",
    "        self.ano = ano\n",
    "        self.velocidad_actual = velocidad_actual\n",
    "        self.encendido = encendido\n",
    "        #False es vehiculo apagado, True es vehiculo encendido\n",
    "\n",
    "    def informacion(self):\n",
    "        print(f'El vehiculo es de la marca {self.marca}, el modelo {self.modelo} del año es {self.ano}')\n",
    "    \n",
    "    def encender(self):\n",
    "        if self.encendido == False:\n",
    "            self.encendido = True\n",
    "            print('El vehiculo estaba apagado y ahora está en funcionamiento.')\n",
    "        else:\n",
    "            print('El vehiculo ya está en funcionamiento.')\n",
    "\n",
    "    def apagar(self):\n",
    "        if self.encendido == True:\n",
    "            self.encendido = False\n",
    "            self.velocidad = 0\n",
    "            print('El vehiculo estaba encendido y ahora está apagado')\n",
    "        else:\n",
    "            print('El vehiculo ya estaba apagado.')\n",
    "            \n",
    "\n",
    "# como encenderlo, apagarlo, acelerar, frenar y detenerlo gradualmente\n",
    "\n"
   ]
  },
  {
   "cell_type": "code",
   "execution_count": 37,
   "id": "d4c6f848",
   "metadata": {},
   "outputs": [
    {
     "name": "stdout",
     "output_type": "stream",
     "text": [
      "El vehiculo estaba apagado y ahora está en funcionamiento.\n"
     ]
    }
   ],
   "source": [
    "lista_vehiculos = Vehiculo(\"Fiat\", \"Punto\", 2018, 0, False)\n",
    "lista_vehiculos.encender()\n"
   ]
  },
  {
   "cell_type": "code",
   "execution_count": 36,
   "id": "55cbacd9",
   "metadata": {},
   "outputs": [
    {
     "name": "stdout",
     "output_type": "stream",
     "text": [
      "El vehiculo estaba encendido y ahora está apagado\n"
     ]
    }
   ],
   "source": [
    "lista_vehiculos = Vehiculo(\"Fiat\", \"Punto\", 2018, 0, True)\n",
    "lista_vehiculos.apagar()"
   ]
  }
 ],
 "metadata": {
  "kernelspec": {
   "display_name": "Python 3",
   "language": "python",
   "name": "python3"
  },
  "language_info": {
   "codemirror_mode": {
    "name": "ipython",
    "version": 3
   },
   "file_extension": ".py",
   "mimetype": "text/x-python",
   "name": "python",
   "nbconvert_exporter": "python",
   "pygments_lexer": "ipython3",
   "version": "3.9.6"
  }
 },
 "nbformat": 4,
 "nbformat_minor": 5
}
