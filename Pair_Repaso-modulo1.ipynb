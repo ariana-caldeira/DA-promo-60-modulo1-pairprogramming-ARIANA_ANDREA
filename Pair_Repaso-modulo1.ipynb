{
 "cells": [
  {
   "cell_type": "markdown",
   "id": "fc4dad8c",
   "metadata": {},
   "source": [
    "## PAIR FUNCIONES"
   ]
  },
  {
   "cell_type": "markdown",
   "id": "269dfb24",
   "metadata": {},
   "source": [
    "\n",
    "1 - Calcular el área de un círculo.\n",
    "Descripción: Crea una función llamada calcular_area_circulo que tome el radio como parámetro y devuelva el área del círculo.\n",
    "\n"
   ]
  },
  {
   "cell_type": "code",
   "execution_count": 4,
   "id": "9df4a90d",
   "metadata": {},
   "outputs": [],
   "source": [
    "import math"
   ]
  },
  {
   "cell_type": "code",
   "execution_count": null,
   "id": "1bcca754",
   "metadata": {},
   "outputs": [
    {
     "name": "stdout",
     "output_type": "stream",
     "text": [
      "28.274333882308138\n"
     ]
    }
   ],
   "source": [
    "def circulo(valor_radio):\n",
    "    calcular_area = (math.pi) * (valor_radio **2)   #area del circulo = a la multiplicacion de Pi x raio al cuadrado\n",
    "    return calcular_area\n",
    "\n",
    "radio = 3\n",
    "total_area = circulo(radio)\n",
    "print(total_area)"
   ]
  },
  {
   "cell_type": "markdown",
   "id": "88ffc490",
   "metadata": {},
   "source": [
    "2 - Contar la cantidad de caracteres en una cadena.\n",
    "\n",
    "Descripción: Crea una función llamada contar_caracteres que tome una cadena como parámetro y devuelva la cantidad de caracteres que contiene.\n"
   ]
  },
  {
   "cell_type": "code",
   "execution_count": 24,
   "id": "50567da1",
   "metadata": {},
   "outputs": [
    {
     "name": "stdout",
     "output_type": "stream",
     "text": [
      "La cantidad de caracteres de la cadena es: 23\n"
     ]
    }
   ],
   "source": [
    "def contar_caracteres(cadena):\n",
    "    total = len(cadena)\n",
    "    print('La cantidad de caracteres de la cadena es:', total)\n",
    "\n",
    "texto = 'Estoy estudiando Python'\n",
    "caracteres = contar_caracteres(texto)\n"
   ]
  },
  {
   "cell_type": "code",
   "execution_count": 25,
   "id": "a166c1d0",
   "metadata": {},
   "outputs": [
    {
     "name": "stdout",
     "output_type": "stream",
     "text": [
      "Texto: 'Estoy estudiando Python'\n",
      "Total de caracteres (sin espacios): 21\n"
     ]
    }
   ],
   "source": [
    "# Si queremos contar los caracteres pero no los espacios:\n",
    "\n",
    "def contar_caracteres_sin_espacios(cadena):\n",
    "    cadena_limpia = cadena.replace(' ', '')\n",
    "    return len(cadena_limpia)\n",
    "\n",
    "texto = 'Estoy estudiando Python'\n",
    "conteo = contar_caracteres_sin_espacios(texto)\n",
    "print(f\"Texto: '{texto}'\")\n",
    "print(f\"Total de caracteres (sin espacios): {conteo}\")\n"
   ]
  },
  {
   "cell_type": "markdown",
   "id": "8fd30c20",
   "metadata": {},
   "source": [
    "3 - Determinar si una cadena es un palíndromo.\n",
    "\n",
    "Descripción: Crea una función llamada es_palindromo que tome una cadena como parámetro y devuelva True si es un palíndromo, o False si no lo es."
   ]
  },
  {
   "cell_type": "code",
   "execution_count": 35,
   "id": "b2e87310",
   "metadata": {},
   "outputs": [
    {
     "name": "stdout",
     "output_type": "stream",
     "text": [
      "\"Anita lava la tina\" ¿es palíndromo?: True\n"
     ]
    }
   ],
   "source": [
    "def es_palindromo(cadena):\n",
    "    cadena_final = cadena.lower().replace(' ', '')\n",
    "    if cadena_final == cadena_final[::-1]:\n",
    "        return True\n",
    "    else:\n",
    "        return False\n",
    "\n",
    "frase = \"Anita lava la tina\"\n",
    "palindromo_o_no = es_palindromo(frase)\n",
    "\n",
    "print(f'\"{frase}\" ¿es palíndromo?: {palindromo_o_no}')"
   ]
  }
 ],
 "metadata": {
  "kernelspec": {
   "display_name": "Python 3",
   "language": "python",
   "name": "python3"
  },
  "language_info": {
   "codemirror_mode": {
    "name": "ipython",
    "version": 3
   },
   "file_extension": ".py",
   "mimetype": "text/x-python",
   "name": "python",
   "nbconvert_exporter": "python",
   "pygments_lexer": "ipython3",
   "version": "3.9.6"
  }
 },
 "nbformat": 4,
 "nbformat_minor": 5
}
