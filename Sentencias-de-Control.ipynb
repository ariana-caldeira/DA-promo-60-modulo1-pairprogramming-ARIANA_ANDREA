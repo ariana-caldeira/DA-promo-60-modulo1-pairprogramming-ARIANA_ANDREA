{
 "cells": [
  {
   "cell_type": "markdown",
   "id": "26a058e4",
   "metadata": {},
   "source": [
    "## SENTENCIAS DE CONTROL\n",
    "\n",
    "#### EJERCICIOS PAIR PROGRAMMING - Ariana & Andrea"
   ]
  },
  {
   "cell_type": "code",
   "execution_count": null,
   "id": "f520d5f0",
   "metadata": {},
   "outputs": [],
   "source": []
  }
 ],
 "metadata": {
  "kernelspec": {
   "display_name": "Python 3",
   "language": "python",
   "name": "python3"
  },
  "language_info": {
   "name": "python",
   "version": "3.9.6"
  }
 },
 "nbformat": 4,
 "nbformat_minor": 5
}
