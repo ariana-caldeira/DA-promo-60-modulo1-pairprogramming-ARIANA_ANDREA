{
 "cells": [
  {
   "cell_type": "markdown",
   "id": "26a058e4",
   "metadata": {},
   "source": [
    "## SENTENCIAS DE CONTROL\n",
    "\n",
    "#### EJERCICIOS PAIR PROGRAMMING - Ariana & Andrea"
   ]
  },
  {
   "cell_type": "code",
   "execution_count": null,
   "id": "f520d5f0",
   "metadata": {},
   "outputs": [
    {
     "name": "stdout",
     "output_type": "stream",
     "text": [
      "igual a cero\n"
     ]
    }
   ],
   "source": [
    "# 1 - Verificar si un número es positivo, negativo o cero. Descripción: Dado un número, verifica si es positivo, negativo o cero.\n",
    "\n",
    "numero = int(input(\"Cual es el numero?\"))\n",
    "\n",
    "if numero > 0:\n",
    "    print(\"positivo\")\n",
    "elif numero == 0:\n",
    "    print(\"igual a cero\")\n",
    "else:\n",
    "    print(\"negativo\")\n"
   ]
  },
  {
   "cell_type": "code",
   "execution_count": null,
   "id": "1e2e19ec",
   "metadata": {},
   "outputs": [],
   "source": [
    "# 2 - Verificar si un número es par o impar. Descripción: Dado un número, verifica si es par o impar.\n",
    "\n",
    "numero = int(input(\"Cual es el numero?\"))\n",
    "\n",
    "\n"
   ]
  },
  {
   "cell_type": "code",
   "execution_count": 8,
   "id": "12fd39e0",
   "metadata": {},
   "outputs": [
    {
     "name": "stdout",
     "output_type": "stream",
     "text": [
      "No aprobado\n"
     ]
    }
   ],
   "source": [
    "# 3 - Verificar si un estudiante aprobó o suspendió un examen. Descripción: Dada la calificación de un estudiante en un examen, verifica si aprobó o suspendió (si la calificación es mayor o igual a 60 se considera aprobado).\n",
    "# (si la calificación es mayor o igual a 60 se considera aprobado)\n",
    "\n",
    "nota_examen = int(input(\"Cual es la nota del examen?\"))\n",
    "\n",
    "if nota_examen >= 60:\n",
    "    print(\"Aprobado\")\n",
    "else:\n",
    "    print(\"No aprobado\")\n"
   ]
  },
  {
   "cell_type": "code",
   "execution_count": null,
   "id": "0f5a319a",
   "metadata": {},
   "outputs": [
    {
     "name": "stdout",
     "output_type": "stream",
     "text": [
      "El numero maximo es  100\n"
     ]
    }
   ],
   "source": [
    "# 4 - Calcular el máximo entre dos números. Descripción: Dados dos números, encuentra el máximo entre ellos.\n",
    "\n",
    "numero1 = (20, 100)\n",
    "print(\"El numero maximo es \", max(numero1))\n",
    "\n"
   ]
  },
  {
   "cell_type": "code",
   "execution_count": 14,
   "id": "b3217ef6",
   "metadata": {},
   "outputs": [
    {
     "name": "stdout",
     "output_type": "stream",
     "text": [
      "El maximo es  90\n"
     ]
    }
   ],
   "source": [
    "numero2 = 30\n",
    "numero3 = 90\n",
    "\n",
    "if numero2 > numero3:\n",
    "    print(\"El maximo es \", numero2)\n",
    "elif numero3 > numero2:\n",
    "    print(\"El maximo es \", numero3)\n",
    "else:\n",
    "    print(\"son iguales\")"
   ]
  },
  {
   "cell_type": "code",
   "execution_count": 17,
   "id": "04270d6a",
   "metadata": {},
   "outputs": [
    {
     "name": "stdout",
     "output_type": "stream",
     "text": [
      "Es una consonante\n"
     ]
    }
   ],
   "source": [
    "# 5 - Verificar si una letra es una vocal o una consonante. Descripción: Dada una letra, verifica si es una vocal o una consonante.\n",
    "\n",
    "letra = input(\"Cual es la letra?\")\n",
    "vocales = (\"a\", \"e\", \"i\", \"o\", \"u\")\n",
    "\n",
    "if letra in vocales:\n",
    "    print(\"Es una vocal\")\n",
    "else:\n",
    "    print(\"Es una consonante\")"
   ]
  },
  {
   "cell_type": "code",
   "execution_count": 22,
   "id": "b933183c",
   "metadata": {},
   "outputs": [
    {
     "name": "stdout",
     "output_type": "stream",
     "text": [
      "Descuento de 10% sobre 120 euros, seria  12.0\n"
     ]
    }
   ],
   "source": [
    "# 6 - Calcular el descuento en una compra según el monto total. Si el monto es mayor o igual a $100, aplica un descuento del 10%;\n",
    "\n",
    "total_compra = int(input(\"Cual es el valor de compra?\"))\n",
    "\n",
    "if total_compra >= 100:\n",
    "    descuento = 0.10 * total_compra\n",
    "    print(\"Descuento de 10% sobre\", total_compra, \"euros, seria \", descuento)\n",
    "else:\n",
    "    print(\"Ningún descuento\")\n"
   ]
  },
  {
   "cell_type": "code",
   "execution_count": 28,
   "id": "de2d1d20",
   "metadata": {},
   "outputs": [
    {
     "name": "stdout",
     "output_type": "stream",
     "text": [
      "No es bisesto\n"
     ]
    }
   ],
   "source": [
    "# 7 - Verificar si un año es bisiesto o no.\n",
    "# un año es bisiesto si es divisible entre 4, excepto aquellos divisibles entre 100 pero no entre 400\n",
    "\n",
    "ano = int(input(\"Introduce el año.\"))\n",
    "resto = ano % 4\n",
    "\n",
    "if resto == 0:\n",
    "    print(\"Es bisesto\")\n",
    "else:\n",
    "    print(\"No es bisesto\")"
   ]
  },
  {
   "cell_type": "code",
   "execution_count": null,
   "id": "8b3daa14",
   "metadata": {},
   "outputs": [],
   "source": []
  },
  {
   "cell_type": "code",
   "execution_count": null,
   "id": "66b9399c",
   "metadata": {},
   "outputs": [],
   "source": []
  }
 ],
 "metadata": {
  "kernelspec": {
   "display_name": "Python 3",
   "language": "python",
   "name": "python3"
  },
  "language_info": {
   "codemirror_mode": {
    "name": "ipython",
    "version": 3
   },
   "file_extension": ".py",
   "mimetype": "text/x-python",
   "name": "python",
   "nbconvert_exporter": "python",
   "pygments_lexer": "ipython3",
   "version": "3.9.6"
  }
 },
 "nbformat": 4,
 "nbformat_minor": 5
}
