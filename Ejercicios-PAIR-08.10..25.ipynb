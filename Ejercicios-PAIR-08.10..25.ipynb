{
 "cells": [
  {
   "cell_type": "markdown",
   "id": "af5419ab",
   "metadata": {},
   "source": [
    "# 08/10/25 Ejercicios PAIR: \n",
    "## Bucles & Sentencias de Control."
   ]
  },
  {
   "cell_type": "markdown",
   "id": "d133d6bc",
   "metadata": {},
   "source": [
    "1.Imprimir los números del 1 al 5 utilizando un bucle for\n",
    "\n",
    "Descripción: Utiliza un bucle for para imprimir los números del 1 al 5 (incluido) en orden ascendente."
   ]
  },
  {
   "cell_type": "code",
   "execution_count": null,
   "id": "8a098eaa",
   "metadata": {},
   "outputs": [],
   "source": []
  },
  {
   "cell_type": "markdown",
   "id": "43310825",
   "metadata": {},
   "source": [
    "2.Calcular la suma de los primeros 10 números naturales utilizando un bucle for\n",
    "\n",
    "Descripción: Utiliza un bucle for para calcular la suma de los primeros 10 números naturales (1 + 2 + 3 + ... + 10)."
   ]
  },
  {
   "cell_type": "code",
   "execution_count": null,
   "id": "ff617ed0",
   "metadata": {},
   "outputs": [],
   "source": []
  },
  {
   "cell_type": "markdown",
   "id": "82147760",
   "metadata": {},
   "source": [
    "3.Calcular el producto de los elementos de una lista\n",
    "\n",
    "Descripción: Dada una lista de números, utiliza un bucle for para calcular el producto de todos los elementos."
   ]
  },
  {
   "cell_type": "code",
   "execution_count": null,
   "id": "6693cda5",
   "metadata": {},
   "outputs": [],
   "source": []
  },
  {
   "cell_type": "markdown",
   "id": "830a0362",
   "metadata": {},
   "source": [
    "4.Imprimir los caracteres de una cadena de texto\n",
    "\n",
    "Descripción: Dada una cadena de texto, utiliza un bucle for para imprimir cada carácter en una línea separada."
   ]
  },
  {
   "cell_type": "code",
   "execution_count": null,
   "id": "de22d0bd",
   "metadata": {},
   "outputs": [],
   "source": []
  },
  {
   "cell_type": "markdown",
   "id": "356fd16b",
   "metadata": {},
   "source": [
    "5.Imprimir los números pares del 1 al 100 utilizando un bucle for\n",
    "\n",
    "Descripción: Utiliza un bucle for para imprimir los números pares del 1 al 100 en orden ascendente."
   ]
  },
  {
   "cell_type": "code",
   "execution_count": null,
   "id": "00e92e37",
   "metadata": {},
   "outputs": [],
   "source": []
  },
  {
   "cell_type": "markdown",
   "id": "4bae7cf7",
   "metadata": {},
   "source": [
    "6.Imprimir los números primos del 1 al 50 utilizando un bucle for\n",
    "\n",
    "Descripción: Utiliza un bucle for para imprimir los números primos del 1 al 50 en orden ascendente.\n",
    "\n",
    "NOTA: Según la Wikipedia, un número primo es un número natural mayor que 1 que no tiene divisores positivos más que 1 y él mismo."
   ]
  },
  {
   "cell_type": "code",
   "execution_count": null,
   "id": "b755b284",
   "metadata": {},
   "outputs": [],
   "source": []
  },
  {
   "cell_type": "markdown",
   "id": "c79257ab",
   "metadata": {},
   "source": [
    "7.Calcular el factorial de un número utilizando un bucle for\n",
    "\n",
    "Descripción: Dado un número entero positivo, calcula su factorial utilizando un bucle for."
   ]
  },
  {
   "cell_type": "code",
   "execution_count": null,
   "id": "46587bde",
   "metadata": {},
   "outputs": [],
   "source": []
  },
  {
   "cell_type": "markdown",
   "id": "5e846e1b",
   "metadata": {},
   "source": [
    "8.Juego de adivinar palabras utilizando un bucle for\n",
    "\n",
    "Descripción: Crea un juego en el que el jugador debe adivinar una palabra secreta. El jugador tiene un número limitado de intentos y se le proporcionan pistas después de cada intento. Utiliza un bucle for para controlar los intentos del jugador."
   ]
  },
  {
   "cell_type": "code",
   "execution_count": null,
   "id": "95400387",
   "metadata": {},
   "outputs": [],
   "source": []
  },
  {
   "cell_type": "markdown",
   "id": "fa9c2cd7",
   "metadata": {},
   "source": [
    "Ejercicios try ...except\n",
    "Realizar una búsqueda en una lista y capturar una excepción en caso de valor no encontrado.\n",
    "\n",
    "Descripción: Solicita al usuario una lista de nombres y un nombre para buscar en la lista. Intenta encontrar el nombre en la lista y utiliza las sentencias try y except para capturar la excepción en caso de que el nombre no sea encontrado."
   ]
  },
  {
   "cell_type": "code",
   "execution_count": null,
   "id": "21e7b57c",
   "metadata": {},
   "outputs": [],
   "source": []
  }
 ],
 "metadata": {
  "kernelspec": {
   "display_name": "Python 3",
   "language": "python",
   "name": "python3"
  },
  "language_info": {
   "codemirror_mode": {
    "name": "ipython",
    "version": 3
   },
   "file_extension": ".py",
   "mimetype": "text/x-python",
   "name": "python",
   "nbconvert_exporter": "python",
   "pygments_lexer": "ipython3",
   "version": "3.13.7"
  }
 },
 "nbformat": 4,
 "nbformat_minor": 5
}
